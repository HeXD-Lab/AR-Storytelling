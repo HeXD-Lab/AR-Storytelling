{
 "cells": [
  {
   "cell_type": "code",
   "execution_count": 9,
   "id": "ccbfdecb-a92d-4d2f-b804-ac7b2c92fa55",
   "metadata": {},
   "outputs": [],
   "source": [
    "from transformers import AutoTokenizer, AutoModel\n",
    "import torch\n",
    "import numpy as np\n",
    "from sklearn.metrics.pairwise import cosine_similarity\n",
    "from sentence_transformers import SentenceTransformer\n",
    "# from nltk import SentenceTokenizer\n",
    "\n",
    "# model_name = \"bert-base-uncased\"\n",
    "# tokenizer = AutoTokenizer.from_pretrained(model_name)\n",
    "# model = AutoModel.from_pretrained(model_name)\n",
    "\n",
    "model = SentenceTransformer('sentence-transformers/all-MiniLM-L6-v2')\n",
    "# embeddings = model.encode(sentences)\n",
    "# print(embeddings)\n",
    "\n",
    "def get_sentence_embedding(text):\n",
    "    # inputs = tokenizer(text, return_tensors=\"pt\", padding=True, truncation=True, max_length=512)\n",
    "    # with torch.no_grad():\n",
    "    #     outputs = model(**inputs)\n",
    "    # return outputs.last_hidden_state[:, 0, :].numpy()\n",
    "    return model.encode(text)\n",
    "\n",
    "def cos_sim(a,b):\n",
    "    return (np.dot(a, b) / (np.linalg.norm(a) * np.linalg.norm(b))).sum()\n",
    "\n",
    "def find_best_fit(slides, sentence):\n",
    "    para_sentences = slides\n",
    "    \n",
    "    sentence_embedding_repeated = [get_sentence_embedding(sentence)] * len(para_sentences)\n",
    "    para_embeddings = [get_sentence_embedding(sent) for sent in para_sentences]\n",
    "\n",
    "    # print(sentence_embedding.shape)\n",
    "    print([p.shape for p in para_embeddings])\n",
    "    similarities = [cosine_similarity(a.reshape(1,-1),b.reshape(1,-1)) for a,b in zip(para_embeddings,sentence_embedding_repeated)]\n",
    "    \n",
    "    return similarities"
   ]
  },
  {
   "cell_type": "code",
   "execution_count": 16,
   "id": "6a967e63-fee9-40b1-9fd6-b31fa8aff14f",
   "metadata": {},
   "outputs": [],
   "source": [
    "speech = \"\"\"lightning\"\"\""
   ]
  },
  {
   "cell_type": "code",
   "execution_count": 14,
   "id": "7c8c407b-d583-4004-8105-3832c15d6e40",
   "metadata": {},
   "outputs": [
    {
     "name": "stdout",
     "output_type": "stream",
     "text": [
      "Processing slide: apollo.txt\n",
      "Processing slide: athena.txt\n",
      "Processing slide: hera.txt\n",
      "Processing slide: poseidon.txt\n",
      "Processing slide: zeus.txt\n"
     ]
    }
   ],
   "source": [
    "import os\n",
    "directory = './slides'\n",
    "file_scores = {}\n",
    "files = []\n",
    "i=0\n",
    "\n",
    "for filename in os.listdir(directory):\n",
    "    # Create the full path to the file\n",
    "    file_path = os.path.join(directory, filename)\n",
    "    \n",
    "    # Check if it's a file (not a directory)\n",
    "    if os.path.isfile(file_path):\n",
    "        print(f\"Processing slide: {filename}\")\n",
    "        file_scores[i] = filename\n",
    "        files.append(open(file_path,'r').read())\n",
    "    i+=1"
   ]
  },
  {
   "cell_type": "code",
   "execution_count": 17,
   "id": "c7e55090-8806-4bc0-8b8a-28fceac13063",
   "metadata": {},
   "outputs": [
    {
     "name": "stdout",
     "output_type": "stream",
     "text": [
      "[(384,), (384,), (384,), (384,), (384,)]\n"
     ]
    },
    {
     "data": {
      "text/plain": [
       "[array([[0.07548838]], dtype=float32),\n",
       " array([[0.03851165]], dtype=float32),\n",
       " array([[-0.00032955]], dtype=float32),\n",
       " array([[0.31089544]], dtype=float32),\n",
       " array([[0.12468115]], dtype=float32)]"
      ]
     },
     "execution_count": 17,
     "metadata": {},
     "output_type": "execute_result"
    }
   ],
   "source": [
    "find_best_fit(files, speech)\n",
    "# print(f\"Input sentence: '{speech}'\")\n",
    "# print('--------------')\n",
    "# print(f\"Best fit at index {index}: '{best_match}' with similarity score {score:.4f}\")"
   ]
  },
  {
   "cell_type": "code",
   "execution_count": 39,
   "id": "c8a71116-16e1-4ec3-9716-96665d5036e3",
   "metadata": {},
   "outputs": [
    {
     "data": {
      "text/plain": [
       "'hera.txt'"
      ]
     },
     "execution_count": 39,
     "metadata": {},
     "output_type": "execute_result"
    }
   ],
   "source": [
    "file_scores[2]"
   ]
  }
 ],
 "metadata": {
  "kernelspec": {
   "display_name": "Python 3 (ipykernel)",
   "language": "python",
   "name": "python3"
  },
  "language_info": {
   "codemirror_mode": {
    "name": "ipython",
    "version": 3
   },
   "file_extension": ".py",
   "mimetype": "text/x-python",
   "name": "python",
   "nbconvert_exporter": "python",
   "pygments_lexer": "ipython3",
   "version": "3.12.4"
  }
 },
 "nbformat": 4,
 "nbformat_minor": 5
}
