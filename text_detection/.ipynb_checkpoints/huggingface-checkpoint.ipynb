{
 "cells": [
  {
   "cell_type": "code",
   "execution_count": 1,
   "id": "ccbfdecb-a92d-4d2f-b804-ac7b2c92fa55",
   "metadata": {},
   "outputs": [
    {
     "name": "stderr",
     "output_type": "stream",
     "text": [
      "C:\\Users\\Venkatasai Gudisa\\AppData\\Local\\Programs\\Python\\Python311\\Lib\\site-packages\\tqdm\\auto.py:21: TqdmWarning: IProgress not found. Please update jupyter and ipywidgets. See https://ipywidgets.readthedocs.io/en/stable/user_install.html\n",
      "  from .autonotebook import tqdm as notebook_tqdm\n"
     ]
    },
    {
     "ename": "NameError",
     "evalue": "name 'SentenceTransformer' is not defined",
     "output_type": "error",
     "traceback": [
      "\u001b[1;31m---------------------------------------------------------------------------\u001b[0m",
      "\u001b[1;31mNameError\u001b[0m                                 Traceback (most recent call last)",
      "Cell \u001b[1;32mIn[1], line 10\u001b[0m\n\u001b[0;32m      4\u001b[0m \u001b[38;5;28;01mfrom\u001b[39;00m \u001b[38;5;21;01msklearn\u001b[39;00m\u001b[38;5;21;01m.\u001b[39;00m\u001b[38;5;21;01mmetrics\u001b[39;00m\u001b[38;5;21;01m.\u001b[39;00m\u001b[38;5;21;01mpairwise\u001b[39;00m \u001b[38;5;28;01mimport\u001b[39;00m cosine_similarity\n\u001b[0;32m      6\u001b[0m \u001b[38;5;66;03m# model_name = \"bert-base-uncased\"\u001b[39;00m\n\u001b[0;32m      7\u001b[0m \u001b[38;5;66;03m# tokenizer = AutoTokenizer.from_pretrained(model_name)\u001b[39;00m\n\u001b[0;32m      8\u001b[0m \u001b[38;5;66;03m# model = AutoModel.from_pretrained(model_name)\u001b[39;00m\n\u001b[1;32m---> 10\u001b[0m model \u001b[38;5;241m=\u001b[39m \u001b[43mSentenceTransformer\u001b[49m(\u001b[38;5;124m'\u001b[39m\u001b[38;5;124msentence-transformers/all-MiniLM-L6-v2\u001b[39m\u001b[38;5;124m'\u001b[39m)\n\u001b[0;32m     11\u001b[0m \u001b[38;5;66;03m# embeddings = model.encode(sentences)\u001b[39;00m\n\u001b[0;32m     12\u001b[0m \u001b[38;5;66;03m# print(embeddings)\u001b[39;00m\n\u001b[0;32m     14\u001b[0m \u001b[38;5;28;01mdef\u001b[39;00m \u001b[38;5;21mget_sentence_embedding\u001b[39m(text):\n\u001b[0;32m     15\u001b[0m     \u001b[38;5;66;03m# inputs = tokenizer(text, return_tensors=\"pt\", padding=True, truncation=True, max_length=512)\u001b[39;00m\n\u001b[0;32m     16\u001b[0m     \u001b[38;5;66;03m# with torch.no_grad():\u001b[39;00m\n\u001b[0;32m     17\u001b[0m     \u001b[38;5;66;03m#     outputs = model(**inputs)\u001b[39;00m\n\u001b[0;32m     18\u001b[0m     \u001b[38;5;66;03m# return outputs.last_hidden_state[:, 0, :].numpy()\u001b[39;00m\n",
      "\u001b[1;31mNameError\u001b[0m: name 'SentenceTransformer' is not defined"
     ]
    }
   ],
   "source": [
    "from transformers import AutoTokenizer, AutoModel\n",
    "import torch\n",
    "import numpy as np\n",
    "from sklearn.metrics.pairwise import cosine_similarity\n",
    "\n",
    "# model_name = \"bert-base-uncased\"\n",
    "# tokenizer = AutoTokenizer.from_pretrained(model_name)\n",
    "# model = AutoModel.from_pretrained(model_name)\n",
    "\n",
    "model = SentenceTransformer('sentence-transformers/all-MiniLM-L6-v2')\n",
    "# embeddings = model.encode(sentences)\n",
    "# print(embeddings)\n",
    "\n",
    "def get_sentence_embedding(text):\n",
    "    # inputs = tokenizer(text, return_tensors=\"pt\", padding=True, truncation=True, max_length=512)\n",
    "    # with torch.no_grad():\n",
    "    #     outputs = model(**inputs)\n",
    "    # return outputs.last_hidden_state[:, 0, :].numpy()\n",
    "    return model.encode(text)\n",
    "\n",
    "def cos_sim(a,b):\n",
    "    return (np.dot(a, b) / (np.linalg.norm(a) * np.linalg.norm(b))).sum()\n",
    "\n",
    "def find_best_fit(slides, sentence):\n",
    "    para_sentences = slides\n",
    "    \n",
    "    sentence_embedding_repeated = [get_sentence_embedding(sentence)] * len(para_sentences)\n",
    "    para_embeddings = [get_sentence_embedding(sent) for sent in para_sentences]\n",
    "\n",
    "    print(sentence_embedding.shape)\n",
    "    print([p.shape for p in para_embeddings])\n",
    "    similarities = [cosine_similarity(a.reshape(1,-1),b.reshape(1,-1)) for a,b in zip(para_embeddings,sentence_embedding_repeated)]\n",
    "    \n",
    "    return similarities"
   ]
  },
  {
   "cell_type": "code",
   "execution_count": 19,
   "id": "6a967e63-fee9-40b1-9fd6-b31fa8aff14f",
   "metadata": {},
   "outputs": [],
   "source": [
    "speech = \"\"\"goddess of wisdom\"\"\""
   ]
  },
  {
   "cell_type": "code",
   "execution_count": 48,
   "id": "7c8c407b-d583-4004-8105-3832c15d6e40",
   "metadata": {},
   "outputs": [
    {
     "name": "stdout",
     "output_type": "stream",
     "text": [
      "Processing slide: apollo.txt\n",
      "Processing slide: athena.txt\n",
      "Processing slide: hera.txt\n",
      "Processing slide: poseidon.txt\n",
      "Processing slide: zeus.txt\n"
     ]
    }
   ],
   "source": [
    "import os\n",
    "directory = './slides'\n",
    "file_scores = {}\n",
    "files = []\n",
    "i=0\n",
    "\n",
    "for filename in os.listdir(directory):\n",
    "    # Create the full path to the file\n",
    "    file_path = os.path.join(directory, filename)\n",
    "    \n",
    "    # Check if it's a file (not a directory)\n",
    "    if os.path.isfile(file_path):\n",
    "        print(f\"Processing slide: {filename}\")\n",
    "        file_scores[i] = filename\n",
    "        files.append(open(file_path,'r').read())\n",
    "    i+=1"
   ]
  },
  {
   "cell_type": "code",
   "execution_count": 79,
   "id": "c7e55090-8806-4bc0-8b8a-28fceac13063",
   "metadata": {},
   "outputs": [
    {
     "name": "stdout",
     "output_type": "stream",
     "text": [
      "torch.Size([1, 768])\n",
      "[(384,), (384,), (384,), (384,), (384,)]\n"
     ]
    },
    {
     "data": {
      "text/plain": [
       "[array([[0.18113717]], dtype=float32),\n",
       " array([[0.20893408]], dtype=float32),\n",
       " array([[0.41992977]], dtype=float32),\n",
       " array([[0.20638844]], dtype=float32),\n",
       " array([[0.1274612]], dtype=float32)]"
      ]
     },
     "execution_count": 79,
     "metadata": {},
     "output_type": "execute_result"
    }
   ],
   "source": [
    "find_best_fit(files, 'My name is Hera')\n",
    "# print(f\"Input sentence: '{speech}'\")\n",
    "# print('--------------')\n",
    "# print(f\"Best fit at index {index}: '{best_match}' with similarity score {score:.4f}\")"
   ]
  },
  {
   "cell_type": "code",
   "execution_count": 39,
   "id": "c8a71116-16e1-4ec3-9716-96665d5036e3",
   "metadata": {},
   "outputs": [
    {
     "data": {
      "text/plain": [
       "'hera.txt'"
      ]
     },
     "execution_count": 39,
     "metadata": {},
     "output_type": "execute_result"
    }
   ],
   "source": [
    "file_scores[2]"
   ]
  }
 ],
 "metadata": {
  "kernelspec": {
   "display_name": "Python 3 (ipykernel)",
   "language": "python",
   "name": "python3"
  },
  "language_info": {
   "codemirror_mode": {
    "name": "ipython",
    "version": 3
   },
   "file_extension": ".py",
   "mimetype": "text/x-python",
   "name": "python",
   "nbconvert_exporter": "python",
   "pygments_lexer": "ipython3",
   "version": "3.11.9"
  }
 },
 "nbformat": 4,
 "nbformat_minor": 5
}
